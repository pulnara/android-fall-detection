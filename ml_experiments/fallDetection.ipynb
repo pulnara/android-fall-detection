{
  "nbformat": 4,
  "nbformat_minor": 0,
  "metadata": {
    "colab": {
      "name": "fallDetection.ipynb",
      "provenance": [],
      "collapsed_sections": []
    },
    "kernelspec": {
      "name": "python3",
      "display_name": "Python 3"
    },
    "language_info": {
      "name": "python"
    }
  },
  "cells": [
    {
      "cell_type": "code",
      "source": [
        "!unzip -qq 'archive.zip' -d 'kaggle'"
      ],
      "metadata": {
        "id": "6JM3KiBAFIKO"
      },
      "execution_count": null,
      "outputs": []
    },
    {
      "cell_type": "code",
      "source": [
        "import os\n",
        "from pathlib import Path\n",
        "import pandas as pd\n",
        "import numpy as np\n",
        "\n",
        "from sklearn.model_selection import train_test_split\n",
        "\n",
        "import tensorflow as tf\n",
        "\n",
        "from tensorflow.keras.layers import Dense, Dropout, LSTM, Masking, GRU\n",
        "from tensorflow.keras import Sequential"
      ],
      "metadata": {
        "id": "ce375eaoFIMz"
      },
      "execution_count": null,
      "outputs": []
    },
    {
      "cell_type": "code",
      "source": [
        "DATAPATH = Path(\"kaggle\")\n",
        "\n",
        "PAD = 64.0"
      ],
      "metadata": {
        "id": "p8yCk1q7bmxO"
      },
      "execution_count": null,
      "outputs": []
    },
    {
      "cell_type": "code",
      "source": [
        "# 6-CLASS CLASSIFICATION\n",
        "\n",
        "# X = []\n",
        "# y = []\n",
        "\n",
        "# label_num = 0\n",
        "# labels = {}\n",
        "\n",
        "# for dir in os.listdir(DATAPATH):\n",
        "#   labels[dir] = label_num\n",
        "#   for file in os.listdir(DATAPATH / dir):\n",
        "#     df = pd.read_csv(DATAPATH / dir / file, sep=';')\n",
        "    \n",
        "#     acc_x = df['AccelerationX'].to_numpy()\n",
        "#     acc_y = df['AccelerationY'].to_numpy()\n",
        "#     acc_z = df['AccelerationZ'].to_numpy()\n",
        "\n",
        "#     X.append(np.dstack([acc_x, acc_y, acc_z]))\n",
        "#     y.append(label_num)\n",
        "    \n",
        "#   label_num += 1\n",
        "\n",
        "# y = np.array(y)\n",
        "\n",
        "# max_len = max([x.shape[1] for x in X])\n",
        "# X_padded = [tf.keras.preprocessing.sequence.pad_sequences(x, maxlen=max_len, padding='post', value=PAD) for x in X]\n",
        "\n",
        "# X_padded = np.float32(np.concatenate(X_padded))\n",
        "\n",
        "# print(labels)"
      ],
      "metadata": {
        "id": "_9ZohrrqFIPT"
      },
      "execution_count": null,
      "outputs": []
    },
    {
      "cell_type": "code",
      "source": [
        "# BINARY CLASSIFICATION\n",
        "\n",
        "X = []\n",
        "y = []\n",
        "\n",
        "for dir in os.listdir(DATAPATH):\n",
        "  \n",
        "  label = 1 if 'Fall' in dir else 0\n",
        "\n",
        "  for file in os.listdir(DATAPATH / dir):\n",
        "    df = pd.read_csv(DATAPATH / dir / file, sep=';')\n",
        "    \n",
        "    acc_x = df['AccelerationX'].to_numpy()\n",
        "    acc_y = df['AccelerationY'].to_numpy()\n",
        "    acc_z = df['AccelerationZ'].to_numpy()\n",
        "\n",
        "    X.append(np.dstack([acc_x, acc_y, acc_z]))\n",
        "    y.append(label)\n",
        "\n",
        "y = np.array(y)\n",
        "\n",
        "max_len = max([x.shape[1] for x in X])\n",
        "X_padded = [tf.keras.preprocessing.sequence.pad_sequences(x, maxlen=max_len, padding='post', value=PAD) for x in X]\n",
        "X_padded = np.float32(np.concatenate(X_padded))"
      ],
      "metadata": {
        "id": "Lb0msKAQbpfS"
      },
      "execution_count": null,
      "outputs": []
    },
    {
      "cell_type": "code",
      "source": [
        "print(X_padded.shape)\n",
        "print(y.shape)"
      ],
      "metadata": {
        "colab": {
          "base_uri": "https://localhost:8080/"
        },
        "id": "CIgO5-C2FIR1",
        "outputId": "62d408c5-567f-4053-e58f-590b03d560e7"
      },
      "execution_count": null,
      "outputs": [
        {
          "output_type": "stream",
          "name": "stdout",
          "text": [
            "(203, 1552, 3)\n",
            "(203,)\n"
          ]
        }
      ]
    },
    {
      "cell_type": "code",
      "source": [
        "X_train, X_test, y_train, y_test = train_test_split(X_padded, y, test_size=0.1, stratify=y)\n",
        "\n",
        "# X_train, X_val_test, y_train, y_val_test = train_test_split(X_padded, y, test_size=0.2, stratify=y)\n",
        "# X_val, X_test, y_val, y_test = train_test_split(X_val_test, y_val_test, test_size=0.5, stratify=y_val_test)\n",
        "\n",
        "y_train = tf.keras.utils.to_categorical(y_train)\n",
        "# y_val = tf.keras.utils.to_categorical(y_val)\n",
        "y_test = tf.keras.utils.to_categorical(y_test)"
      ],
      "metadata": {
        "id": "7NLsuYIzFIUL"
      },
      "execution_count": null,
      "outputs": []
    },
    {
      "cell_type": "code",
      "source": [
        "# print(f'X_train: {X_train.shape}\\ny_train: {y_train.shape}\\nX_val:{X_val.shape}\\ny_val:{y_val.shape}\\nX_test: {X_test.shape}\\ny_test: {y_test.shape}')"
      ],
      "metadata": {
        "id": "1xAtI6e0lUzG"
      },
      "execution_count": null,
      "outputs": []
    },
    {
      "cell_type": "code",
      "source": [
        "print(f'X_train: {X_train.shape}\\ny_train: {y_train.shape}\\nX_test: {X_test.shape}\\ny_test: {y_test.shape}')"
      ],
      "metadata": {
        "colab": {
          "base_uri": "https://localhost:8080/"
        },
        "id": "Hm-FGhVOJ8ZT",
        "outputId": "5b1798e2-8048-48ad-972d-acb37cc713eb"
      },
      "execution_count": null,
      "outputs": [
        {
          "output_type": "stream",
          "name": "stdout",
          "text": [
            "X_train: (182, 1552, 3)\n",
            "y_train: (182, 2)\n",
            "X_test: (21, 1552, 3)\n",
            "y_test: (21, 2)\n"
          ]
        }
      ]
    },
    {
      "cell_type": "code",
      "source": [
        "def create_model():\n",
        "  n_timesteps, n_features, n_outputs = X_train.shape[1], X_train.shape[2], y_train.shape[1]\n",
        "  print(n_timesteps, n_features, n_outputs)\n",
        "  model = Sequential(\n",
        "      [\n",
        "       Masking(mask_value=PAD, input_shape=(1552, 3)),\n",
        "       GRU(128),\n",
        "       Dropout(0.3),\n",
        "       Dense(128, activation='relu'),\n",
        "       Dropout(0.3),\n",
        "       Dense(64, activation='relu'),\n",
        "       Dense(2, activation='softmax')\n",
        "      ]\n",
        "  )\n",
        "  \n",
        "  opt = tf.keras.optimizers.Adam(learning_rate=0.0005)\n",
        "  model.compile(loss='categorical_crossentropy', optimizer=opt, metrics=['accuracy'])\n",
        "\n",
        "  return model\n",
        "  "
      ],
      "metadata": {
        "id": "73Gsj12yKQBS"
      },
      "execution_count": null,
      "outputs": []
    },
    {
      "cell_type": "code",
      "source": [
        "model1 = create_model()"
      ],
      "metadata": {
        "id": "OygNVf7hm-0x",
        "colab": {
          "base_uri": "https://localhost:8080/"
        },
        "outputId": "ad110a32-0947-436a-d0a8-851f81afee15"
      },
      "execution_count": null,
      "outputs": [
        {
          "output_type": "stream",
          "name": "stdout",
          "text": [
            "1552 3 2\n"
          ]
        }
      ]
    },
    {
      "cell_type": "code",
      "source": [
        "model1(np.expand_dims(X_train[0], axis=0))"
      ],
      "metadata": {
        "colab": {
          "base_uri": "https://localhost:8080/"
        },
        "id": "fNnxJzdrKQGL",
        "outputId": "9a857e24-5ee8-47ec-dfef-6997db9c659a"
      },
      "execution_count": null,
      "outputs": [
        {
          "output_type": "execute_result",
          "data": {
            "text/plain": [
              "<tf.Tensor: shape=(1, 2), dtype=float32, numpy=array([[0.5123726 , 0.48762745]], dtype=float32)>"
            ]
          },
          "metadata": {},
          "execution_count": 38
        }
      ]
    },
    {
      "cell_type": "code",
      "source": [
        "import absl.logging\n",
        "absl.logging.set_verbosity(absl.logging.ERROR)\n",
        "\n",
        "checkpoint_filepath = 'checkpoint'\n",
        "\n",
        "!rm -rf $checkpoint_filepath\n",
        "\n",
        "model_checkpoint_callback = tf.keras.callbacks.ModelCheckpoint(\n",
        "    filepath=checkpoint_filepath,\n",
        "    save_freq=110\n",
        ")\n",
        "\n",
        "model1.fit(X_train, y_train, batch_size=16, epochs=50,\n",
        "           callbacks=[model_checkpoint_callback])"
      ],
      "metadata": {
        "colab": {
          "base_uri": "https://localhost:8080/"
        },
        "id": "tN5H7eUAKQIj",
        "outputId": "2282d8c5-2596-4a3d-de15-615b2621c9a8"
      },
      "execution_count": null,
      "outputs": [
        {
          "output_type": "stream",
          "name": "stdout",
          "text": [
            "Epoch 1/50\n",
            "12/12 [==============================] - 19s 1s/step - loss: 0.6901 - accuracy: 0.5275\n",
            "Epoch 2/50\n",
            "12/12 [==============================] - 14s 1s/step - loss: 0.6816 - accuracy: 0.5385\n",
            "Epoch 3/50\n",
            "12/12 [==============================] - 14s 1s/step - loss: 0.6725 - accuracy: 0.5769\n",
            "Epoch 4/50\n",
            "12/12 [==============================] - 14s 1s/step - loss: 0.6670 - accuracy: 0.6209\n",
            "Epoch 5/50\n",
            "12/12 [==============================] - 14s 1s/step - loss: 0.6632 - accuracy: 0.6209\n",
            "Epoch 6/50\n",
            "12/12 [==============================] - 14s 1s/step - loss: 0.6602 - accuracy: 0.6154\n",
            "Epoch 7/50\n",
            "12/12 [==============================] - 14s 1s/step - loss: 0.6589 - accuracy: 0.6264\n",
            "Epoch 8/50\n",
            "12/12 [==============================] - 14s 1s/step - loss: 0.6630 - accuracy: 0.6099\n",
            "Epoch 9/50\n",
            "12/12 [==============================] - 14s 1s/step - loss: 0.6591 - accuracy: 0.6209\n",
            "Epoch 10/50\n",
            " 1/12 [=>............................] - ETA: 12s - loss: 0.6181 - accuracy: 0.6250INFO:tensorflow:Assets written to: checkpoint/assets\n"
          ]
        },
        {
          "output_type": "stream",
          "name": "stderr",
          "text": [
            "INFO:tensorflow:Assets written to: checkpoint/assets\n"
          ]
        },
        {
          "output_type": "stream",
          "name": "stdout",
          "text": [
            "12/12 [==============================] - 21s 2s/step - loss: 0.6582 - accuracy: 0.6319\n",
            "Epoch 11/50\n",
            "12/12 [==============================] - 14s 1s/step - loss: 0.6466 - accuracy: 0.6209\n",
            "Epoch 12/50\n",
            "12/12 [==============================] - 14s 1s/step - loss: 0.6569 - accuracy: 0.6264\n",
            "Epoch 13/50\n",
            "12/12 [==============================] - 14s 1s/step - loss: 0.6516 - accuracy: 0.6209\n",
            "Epoch 14/50\n",
            "12/12 [==============================] - 14s 1s/step - loss: 0.6515 - accuracy: 0.6264\n",
            "Epoch 15/50\n",
            "12/12 [==============================] - 14s 1s/step - loss: 0.6524 - accuracy: 0.6154\n",
            "Epoch 16/50\n",
            "12/12 [==============================] - 14s 1s/step - loss: 0.6519 - accuracy: 0.6264\n",
            "Epoch 17/50\n",
            "12/12 [==============================] - 14s 1s/step - loss: 0.6592 - accuracy: 0.6264\n",
            "Epoch 18/50\n",
            "12/12 [==============================] - 14s 1s/step - loss: 0.6484 - accuracy: 0.6264\n",
            "Epoch 19/50\n",
            " 3/12 [======>.......................] - ETA: 10s - loss: 0.6866 - accuracy: 0.5625INFO:tensorflow:Assets written to: checkpoint/assets\n"
          ]
        },
        {
          "output_type": "stream",
          "name": "stderr",
          "text": [
            "INFO:tensorflow:Assets written to: checkpoint/assets\n"
          ]
        },
        {
          "output_type": "stream",
          "name": "stdout",
          "text": [
            "12/12 [==============================] - 21s 2s/step - loss: 0.6516 - accuracy: 0.6374\n",
            "Epoch 20/50\n",
            "12/12 [==============================] - 14s 1s/step - loss: 0.6447 - accuracy: 0.6209\n",
            "Epoch 21/50\n",
            "12/12 [==============================] - 14s 1s/step - loss: 0.6411 - accuracy: 0.6319\n",
            "Epoch 22/50\n",
            "12/12 [==============================] - 14s 1s/step - loss: 0.6448 - accuracy: 0.6374\n",
            "Epoch 23/50\n",
            "12/12 [==============================] - 14s 1s/step - loss: 0.6446 - accuracy: 0.6264\n",
            "Epoch 24/50\n",
            "12/12 [==============================] - 14s 1s/step - loss: 0.6448 - accuracy: 0.6154\n",
            "Epoch 25/50\n",
            "12/12 [==============================] - 14s 1s/step - loss: 0.6511 - accuracy: 0.6044\n",
            "Epoch 26/50\n",
            "12/12 [==============================] - 14s 1s/step - loss: 0.6386 - accuracy: 0.6593\n",
            "Epoch 27/50\n",
            "12/12 [==============================] - 14s 1s/step - loss: 0.6453 - accuracy: 0.6154\n",
            "Epoch 28/50\n",
            " 5/12 [===========>..................] - ETA: 8s - loss: 0.5735 - accuracy: 0.7375INFO:tensorflow:Assets written to: checkpoint/assets\n"
          ]
        },
        {
          "output_type": "stream",
          "name": "stderr",
          "text": [
            "INFO:tensorflow:Assets written to: checkpoint/assets\n"
          ]
        },
        {
          "output_type": "stream",
          "name": "stdout",
          "text": [
            "12/12 [==============================] - 22s 2s/step - loss: 0.6428 - accuracy: 0.6154\n",
            "Epoch 29/50\n",
            "12/12 [==============================] - 14s 1s/step - loss: 0.6386 - accuracy: 0.6374\n",
            "Epoch 30/50\n",
            "12/12 [==============================] - 14s 1s/step - loss: 0.6304 - accuracy: 0.6538\n",
            "Epoch 31/50\n",
            "12/12 [==============================] - 14s 1s/step - loss: 0.6463 - accuracy: 0.5824\n",
            "Epoch 32/50\n",
            "12/12 [==============================] - 14s 1s/step - loss: 0.6330 - accuracy: 0.6154\n",
            "Epoch 33/50\n",
            "12/12 [==============================] - 14s 1s/step - loss: 0.6377 - accuracy: 0.6044\n",
            "Epoch 34/50\n",
            "12/12 [==============================] - 14s 1s/step - loss: 0.6352 - accuracy: 0.6538\n",
            "Epoch 35/50\n",
            "12/12 [==============================] - 14s 1s/step - loss: 0.6331 - accuracy: 0.6374\n",
            "Epoch 36/50\n",
            "12/12 [==============================] - 14s 1s/step - loss: 0.6373 - accuracy: 0.6154\n",
            "Epoch 37/50\n",
            " 7/12 [================>.............] - ETA: 5s - loss: 0.6071 - accuracy: 0.6518INFO:tensorflow:Assets written to: checkpoint/assets\n"
          ]
        },
        {
          "output_type": "stream",
          "name": "stderr",
          "text": [
            "INFO:tensorflow:Assets written to: checkpoint/assets\n"
          ]
        },
        {
          "output_type": "stream",
          "name": "stdout",
          "text": [
            "12/12 [==============================] - 22s 2s/step - loss: 0.6341 - accuracy: 0.6154\n",
            "Epoch 38/50\n",
            "12/12 [==============================] - 14s 1s/step - loss: 0.6154 - accuracy: 0.6429\n",
            "Epoch 39/50\n",
            "12/12 [==============================] - 14s 1s/step - loss: 0.6362 - accuracy: 0.6264\n",
            "Epoch 40/50\n",
            "12/12 [==============================] - 14s 1s/step - loss: 0.6305 - accuracy: 0.6429\n",
            "Epoch 41/50\n",
            "12/12 [==============================] - 14s 1s/step - loss: 0.6248 - accuracy: 0.6429\n",
            "Epoch 42/50\n",
            "12/12 [==============================] - 14s 1s/step - loss: 0.6314 - accuracy: 0.6648\n",
            "Epoch 43/50\n",
            "12/12 [==============================] - 14s 1s/step - loss: 0.6224 - accuracy: 0.6154\n",
            "Epoch 44/50\n",
            "12/12 [==============================] - 14s 1s/step - loss: 0.6106 - accuracy: 0.6429\n",
            "Epoch 45/50\n",
            "12/12 [==============================] - 14s 1s/step - loss: 0.6201 - accuracy: 0.6538\n",
            "Epoch 46/50\n",
            " 9/12 [=====================>........] - ETA: 3s - loss: 0.6658 - accuracy: 0.6250INFO:tensorflow:Assets written to: checkpoint/assets\n"
          ]
        },
        {
          "output_type": "stream",
          "name": "stderr",
          "text": [
            "INFO:tensorflow:Assets written to: checkpoint/assets\n"
          ]
        },
        {
          "output_type": "stream",
          "name": "stdout",
          "text": [
            "12/12 [==============================] - 21s 2s/step - loss: 0.6370 - accuracy: 0.6538\n",
            "Epoch 47/50\n",
            "12/12 [==============================] - 14s 1s/step - loss: 0.6291 - accuracy: 0.6099\n",
            "Epoch 48/50\n",
            "12/12 [==============================] - 14s 1s/step - loss: 0.6284 - accuracy: 0.6429\n",
            "Epoch 49/50\n",
            "12/12 [==============================] - 14s 1s/step - loss: 0.6099 - accuracy: 0.6758\n",
            "Epoch 50/50\n",
            "12/12 [==============================] - 14s 1s/step - loss: 0.6107 - accuracy: 0.6758\n"
          ]
        },
        {
          "output_type": "execute_result",
          "data": {
            "text/plain": [
              "<keras.callbacks.History at 0x7f606c0c9890>"
            ]
          },
          "metadata": {},
          "execution_count": 55
        }
      ]
    },
    {
      "cell_type": "code",
      "source": [
        "model1.evaluate(X_test, y_test)"
      ],
      "metadata": {
        "id": "_vzaLTcEKQK1",
        "colab": {
          "base_uri": "https://localhost:8080/"
        },
        "outputId": "14bfd227-cb50-4214-8535-9161a4c19f32"
      },
      "execution_count": null,
      "outputs": [
        {
          "output_type": "stream",
          "name": "stdout",
          "text": [
            "1/1 [==============================] - 2s 2s/step - loss: 0.8629 - accuracy: 0.6190\n"
          ]
        },
        {
          "output_type": "execute_result",
          "data": {
            "text/plain": [
              "[0.8629382848739624, 0.6190476417541504]"
            ]
          },
          "metadata": {},
          "execution_count": 56
        }
      ]
    },
    {
      "cell_type": "code",
      "source": [
        "!mkdir final_model4\n",
        "model1.save(\"final_model4/\", save_format='tf')\n",
        "\n",
        "!tar -cvzf weights.tar.gz final_model4"
      ],
      "metadata": {
        "id": "2dyqwTxNoqdm",
        "colab": {
          "base_uri": "https://localhost:8080/"
        },
        "outputId": "c5569ab7-da54-42e9-f331-c5bb3b27e158"
      },
      "execution_count": null,
      "outputs": [
        {
          "output_type": "stream",
          "name": "stdout",
          "text": [
            "INFO:tensorflow:Assets written to: final_model4/assets\n"
          ]
        },
        {
          "output_type": "stream",
          "name": "stderr",
          "text": [
            "INFO:tensorflow:Assets written to: final_model4/assets\n"
          ]
        },
        {
          "output_type": "stream",
          "name": "stdout",
          "text": [
            "final_model4/\n",
            "final_model4/variables/\n",
            "final_model4/variables/variables.data-00000-of-00001\n",
            "final_model4/variables/variables.index\n",
            "final_model4/saved_model.pb\n",
            "final_model4/keras_metadata.pb\n",
            "final_model4/assets/\n"
          ]
        }
      ]
    },
    {
      "cell_type": "code",
      "source": [
        "!tar -xvf weights.tar.gz"
      ],
      "metadata": {
        "colab": {
          "base_uri": "https://localhost:8080/"
        },
        "id": "llDDzKPVVTdy",
        "outputId": "4f53bc5c-e76c-4abe-8429-9fe97256ffef"
      },
      "execution_count": null,
      "outputs": [
        {
          "output_type": "stream",
          "name": "stdout",
          "text": [
            "final_weights/\n",
            "final_weights/.index\n",
            "final_weights/.data-00000-of-00001\n",
            "final_weights/checkpoint\n"
          ]
        }
      ]
    },
    {
      "cell_type": "code",
      "source": [
        "# LOAD TESTS"
      ],
      "metadata": {
        "id": "2sdItpe0ooLu"
      },
      "execution_count": null,
      "outputs": []
    },
    {
      "cell_type": "code",
      "source": [
        "model2 = create_model()\n",
        "model2.load_weights(\"final_weights/\")\n"
      ],
      "metadata": {
        "id": "qej1OYKwKQNX",
        "colab": {
          "base_uri": "https://localhost:8080/"
        },
        "outputId": "bf90bdea-90f1-496d-fb51-dc4e5ed5c220"
      },
      "execution_count": null,
      "outputs": [
        {
          "output_type": "stream",
          "name": "stdout",
          "text": [
            "1552 3 2\n"
          ]
        },
        {
          "output_type": "execute_result",
          "data": {
            "text/plain": [
              "<tensorflow.python.training.tracking.util.CheckpointLoadStatus at 0x7f761191e890>"
            ]
          },
          "metadata": {},
          "execution_count": 14
        }
      ]
    },
    {
      "cell_type": "code",
      "source": [
        "model1.get_weights()[0].dtype"
      ],
      "metadata": {
        "colab": {
          "base_uri": "https://localhost:8080/"
        },
        "id": "1-4HoH6huTgL",
        "outputId": "9d9a3594-5e05-456d-fb29-524919c2f485"
      },
      "execution_count": null,
      "outputs": [
        {
          "output_type": "execute_result",
          "data": {
            "text/plain": [
              "dtype('float32')"
            ]
          },
          "metadata": {},
          "execution_count": 31
        }
      ]
    },
    {
      "cell_type": "code",
      "source": [
        "from keras import backend as K"
      ],
      "metadata": {
        "id": "CreJzkvJtNAg"
      },
      "execution_count": null,
      "outputs": []
    },
    {
      "cell_type": "code",
      "source": [
        "import tensorflow.compat.v2 as tf_comp\n",
        "tf_comp.enable_v2_behavior()"
      ],
      "metadata": {
        "id": "5q-siPaY1mrk"
      },
      "execution_count": null,
      "outputs": []
    },
    {
      "cell_type": "code",
      "source": [
        "# K.set_floatx('float32')\n",
        "model2 = create_model()\n",
        "model2.load_weights(\"final_weights/\")"
      ],
      "metadata": {
        "colab": {
          "base_uri": "https://localhost:8080/"
        },
        "id": "SLAylwrWqMOk",
        "outputId": "5d5d2abe-0408-48d5-98b4-65f228fee8e5"
      },
      "execution_count": null,
      "outputs": [
        {
          "output_type": "stream",
          "name": "stdout",
          "text": [
            "1552 3 2\n"
          ]
        },
        {
          "output_type": "execute_result",
          "data": {
            "text/plain": [
              "<tensorflow.python.training.tracking.util.CheckpointLoadStatus at 0x7fbb1efb7250>"
            ]
          },
          "metadata": {},
          "execution_count": 13
        }
      ]
    },
    {
      "cell_type": "code",
      "source": [
        "export_dir = 'final_model'\n",
        "model2.save(export_dir)"
      ],
      "metadata": {
        "colab": {
          "base_uri": "https://localhost:8080/"
        },
        "id": "3Fg3Y1v1z6yd",
        "outputId": "ba7644c5-1f32-4f24-bd79-1e20a8957fbf"
      },
      "execution_count": null,
      "outputs": [
        {
          "output_type": "stream",
          "name": "stderr",
          "text": [
            "WARNING:absl:Found untraced functions such as lstm_cell_layer_call_fn, lstm_cell_layer_call_and_return_conditional_losses, lstm_cell_layer_call_fn, lstm_cell_layer_call_and_return_conditional_losses, lstm_cell_layer_call_and_return_conditional_losses while saving (showing 5 of 5). These functions will not be directly callable after loading.\n"
          ]
        },
        {
          "output_type": "stream",
          "name": "stdout",
          "text": [
            "INFO:tensorflow:Assets written to: final_model/assets\n"
          ]
        },
        {
          "output_type": "stream",
          "name": "stderr",
          "text": [
            "INFO:tensorflow:Assets written to: final_model/assets\n",
            "WARNING:absl:<keras.layers.recurrent.LSTMCell object at 0x7fbb969bd550> has the same name 'LSTMCell' as a built-in Keras object. Consider renaming <class 'keras.layers.recurrent.LSTMCell'> to avoid naming conflicts when loading with `tf.keras.models.load_model`. If renaming is not possible, pass the object in the `custom_objects` parameter of the load function.\n"
          ]
        }
      ]
    },
    {
      "cell_type": "code",
      "source": [
        "model2.evaluate(X_test, y_test)"
      ],
      "metadata": {
        "id": "YEtkc94HKQPs",
        "colab": {
          "base_uri": "https://localhost:8080/"
        },
        "outputId": "a2c6ffed-f2d4-4605-a0b5-5fb6ee3232dd"
      },
      "execution_count": null,
      "outputs": [
        {
          "output_type": "stream",
          "name": "stdout",
          "text": [
            "1/1 [==============================] - 5s 5s/step - loss: 0.0905 - accuracy: 1.0000\n"
          ]
        },
        {
          "output_type": "execute_result",
          "data": {
            "text/plain": [
              "[0.09045404195785522, 1.0]"
            ]
          },
          "metadata": {},
          "execution_count": 15
        }
      ]
    },
    {
      "cell_type": "code",
      "source": [
        "# TODO: checkpoints corrupted\n",
        "\n",
        "# model3 = tf.saved_model.load(\"checkpoint\")\n",
        "# model3.evaluate(X_test, y_test)"
      ],
      "metadata": {
        "colab": {
          "base_uri": "https://localhost:8080/",
          "height": 190
        },
        "id": "BOJ0H3TTpNhY",
        "outputId": "3df54122-6d3f-4f52-80ac-1fd2c82e1428"
      },
      "execution_count": null,
      "outputs": [
        {
          "output_type": "error",
          "ename": "AttributeError",
          "evalue": "ignored",
          "traceback": [
            "\u001b[0;31m---------------------------------------------------------------------------\u001b[0m",
            "\u001b[0;31mAttributeError\u001b[0m                            Traceback (most recent call last)",
            "\u001b[0;32m<ipython-input-62-d9c992b275cb>\u001b[0m in \u001b[0;36m<module>\u001b[0;34m()\u001b[0m\n\u001b[1;32m      1\u001b[0m \u001b[0mmodel3\u001b[0m \u001b[0;34m=\u001b[0m \u001b[0mtf\u001b[0m\u001b[0;34m.\u001b[0m\u001b[0msaved_model\u001b[0m\u001b[0;34m.\u001b[0m\u001b[0mload\u001b[0m\u001b[0;34m(\u001b[0m\u001b[0;34m\"checkpoint\"\u001b[0m\u001b[0;34m)\u001b[0m\u001b[0;34m\u001b[0m\u001b[0;34m\u001b[0m\u001b[0m\n\u001b[0;32m----> 2\u001b[0;31m \u001b[0mmodel3\u001b[0m\u001b[0;34m.\u001b[0m\u001b[0mevaluate\u001b[0m\u001b[0;34m(\u001b[0m\u001b[0mX_test\u001b[0m\u001b[0;34m,\u001b[0m \u001b[0my_test\u001b[0m\u001b[0;34m)\u001b[0m\u001b[0;34m\u001b[0m\u001b[0;34m\u001b[0m\u001b[0m\n\u001b[0m",
            "\u001b[0;31mAttributeError\u001b[0m: '_UserObject' object has no attribute 'evaluate'"
          ]
        }
      ]
    },
    {
      "cell_type": "code",
      "source": [
        "model2 = create_model()\n",
        "model2.load_weights(\"final_weights/\")"
      ],
      "metadata": {
        "colab": {
          "base_uri": "https://localhost:8080/"
        },
        "id": "pKcHVoZPWYZl",
        "outputId": "0334eda7-a724-481f-cba8-d05503da3d5a"
      },
      "execution_count": null,
      "outputs": [
        {
          "output_type": "stream",
          "name": "stdout",
          "text": [
            "1552 3 2\n"
          ]
        },
        {
          "output_type": "execute_result",
          "data": {
            "text/plain": [
              "<tensorflow.python.training.tracking.util.CheckpointLoadStatus at 0x7f1c80449a90>"
            ]
          },
          "metadata": {},
          "execution_count": 25
        }
      ]
    },
    {
      "cell_type": "code",
      "source": [
        "converter = tf.lite.TFLiteConverter.from_saved_model(\"final_model4\")\n",
        "converter.target_spec.supported_ops = [tf.lite.OpsSet.TFLITE_BUILTINS, tf.lite.OpsSet.SELECT_TF_OPS] \n",
        "converter._experimental_lower_tensor_list_ops = False\n",
        "converter.optimizations = [tf.lite.Optimize.DEFAULT]\n",
        "tflite_model = converter.convert()"
      ],
      "metadata": {
        "id": "_ut_JllQV_y_"
      },
      "execution_count": null,
      "outputs": []
    },
    {
      "cell_type": "code",
      "source": [
        "with open('fallDetectionModel.tflite', 'wb') as f:\n",
        "  f.write(tflite_model)"
      ],
      "metadata": {
        "id": "hDs6tKLYVgp9"
      },
      "execution_count": null,
      "outputs": []
    },
    {
      "cell_type": "code",
      "source": [
        "# funkcja testujaca model z wykorzystaniem interpretera TFLite\n",
        "# TODO zmodyfikuj funkcje tak by zwracala (accuracy, latency)\n",
        "import time \n",
        "def test_model_accuracy(tflite_model):\n",
        "  # Load TFLite model and allocate tensors.\n",
        "  interpreter = tf.lite.Interpreter(model_path=tflite_model)\n",
        "  interpreter.allocate_tensors()\n",
        "\n",
        "  input_index = interpreter.get_input_details()[0][\"index\"]\n",
        "  output_index = interpreter.get_output_details()[0][\"index\"]\n",
        "  proper = 0\n",
        "  start = time.time()\n",
        "  \n",
        "  for img, label in zip(X_test, y_test):\n",
        "    interpreter.set_tensor(input_index, [img])\n",
        "\n",
        "    interpreter.invoke()\n",
        "\n",
        "    prediction = interpreter.get_tensor(output_index)\n",
        "    label_is = np.argmax(prediction, axis=-1)[0]\n",
        "    label_should_be = label\n",
        "    if label_is == label_should_be:\n",
        "      proper += 1\n",
        "    #print(\"Label is {} should be {}.\".format(label_is, label_should_be))\n",
        "\n",
        "  end = time.time()\n",
        "  amount = len(X_test)\n",
        "  latency = (end-start)/amount\n",
        "  accuracy = proper / amount\n",
        "  return (accuracy, latency)\n"
      ],
      "metadata": {
        "id": "F3CU4FlQzzKS"
      },
      "execution_count": null,
      "outputs": []
    },
    {
      "cell_type": "code",
      "source": [
        "interpreter = tf.lite.Interpreter(model_path=\"model.tflite\")"
      ],
      "metadata": {
        "id": "SKSJIg-F4t8V"
      },
      "execution_count": null,
      "outputs": []
    },
    {
      "cell_type": "code",
      "source": [
        "interpreter.allocate_tensors()"
      ],
      "metadata": {
        "id": "3QYrcPPm5E7g"
      },
      "execution_count": null,
      "outputs": []
    },
    {
      "cell_type": "code",
      "source": [
        "input_index = interpreter.get_input_details()[0][\"index\"]\n",
        "input_index"
      ],
      "metadata": {
        "colab": {
          "base_uri": "https://localhost:8080/"
        },
        "id": "_o2VRke25Hn9",
        "outputId": "6ff12f57-4a62-4876-c89e-2fd343f20a75"
      },
      "execution_count": null,
      "outputs": [
        {
          "output_type": "execute_result",
          "data": {
            "text/plain": [
              "0"
            ]
          },
          "metadata": {},
          "execution_count": 73
        }
      ]
    },
    {
      "cell_type": "code",
      "source": [
        "interpreter.get_input_details()[0]"
      ],
      "metadata": {
        "colab": {
          "base_uri": "https://localhost:8080/"
        },
        "id": "x96ydyvQLkDN",
        "outputId": "fd58788c-e65e-4648-a5dd-e7fe3bba9eb8"
      },
      "execution_count": null,
      "outputs": [
        {
          "output_type": "execute_result",
          "data": {
            "text/plain": [
              "{'dtype': numpy.float32,\n",
              " 'index': 0,\n",
              " 'name': 'serving_default_masking_3_input:0',\n",
              " 'quantization': (0.0, 0),\n",
              " 'quantization_parameters': {'quantized_dimension': 0,\n",
              "  'scales': array([], dtype=float32),\n",
              "  'zero_points': array([], dtype=int32)},\n",
              " 'shape': array([   1, 1552,    3], dtype=int32),\n",
              " 'shape_signature': array([  -1, 1552,    3], dtype=int32),\n",
              " 'sparsity_parameters': {}}"
            ]
          },
          "metadata": {},
          "execution_count": 74
        }
      ]
    },
    {
      "cell_type": "code",
      "source": [
        "output_index = interpreter.get_output_details()[0][\"index\"]\n",
        "output_index"
      ],
      "metadata": {
        "colab": {
          "base_uri": "https://localhost:8080/"
        },
        "id": "NP8MkxGI5JF-",
        "outputId": "18fca9f4-0369-4946-8b79-f923dba1bb2c"
      },
      "execution_count": null,
      "outputs": [
        {
          "output_type": "execute_result",
          "data": {
            "text/plain": [
              "79"
            ]
          },
          "metadata": {},
          "execution_count": 64
        }
      ]
    },
    {
      "cell_type": "code",
      "source": [
        "interpreter.set_tensor(input_index, [X_test[0]])"
      ],
      "metadata": {
        "id": "k1LhJ9XR5NI5"
      },
      "execution_count": null,
      "outputs": []
    },
    {
      "cell_type": "code",
      "source": [
        "X_test[0].dtype"
      ],
      "metadata": {
        "colab": {
          "base_uri": "https://localhost:8080/"
        },
        "id": "phu5CERL5UAU",
        "outputId": "a4c15259-50bf-4b43-a143-5cfa3e34b9ec"
      },
      "execution_count": null,
      "outputs": [
        {
          "output_type": "execute_result",
          "data": {
            "text/plain": [
              "dtype('float32')"
            ]
          },
          "metadata": {},
          "execution_count": 66
        }
      ]
    },
    {
      "cell_type": "code",
      "source": [
        "interpreter.invoke()"
      ],
      "metadata": {
        "id": "7SoiEFEP5VhO"
      },
      "execution_count": null,
      "outputs": []
    },
    {
      "cell_type": "code",
      "source": [
        "prediction = interpreter.get_tensor(output_index)"
      ],
      "metadata": {
        "id": "cMO5jF_r5gBR"
      },
      "execution_count": null,
      "outputs": []
    },
    {
      "cell_type": "code",
      "source": [
        "label_is = np.argmax(prediction, axis=-1)[0]"
      ],
      "metadata": {
        "id": "zXheDz-66TWq"
      },
      "execution_count": null,
      "outputs": []
    },
    {
      "cell_type": "code",
      "source": [
        "prediction"
      ],
      "metadata": {
        "colab": {
          "base_uri": "https://localhost:8080/"
        },
        "id": "3qpebJwqAKdo",
        "outputId": "44f81f75-09d2-4c70-f3f1-cafc74622a27"
      },
      "execution_count": null,
      "outputs": [
        {
          "output_type": "execute_result",
          "data": {
            "text/plain": [
              "array([[0.51676404, 0.48323593]], dtype=float32)"
            ]
          },
          "metadata": {},
          "execution_count": 70
        }
      ]
    },
    {
      "cell_type": "code",
      "source": [
        "label_is"
      ],
      "metadata": {
        "colab": {
          "base_uri": "https://localhost:8080/"
        },
        "id": "CiNRQdMKAMBp",
        "outputId": "2aa81fb1-b721-45ea-e714-c8a5371ef848"
      },
      "execution_count": null,
      "outputs": [
        {
          "output_type": "execute_result",
          "data": {
            "text/plain": [
              "0"
            ]
          },
          "metadata": {},
          "execution_count": 71
        }
      ]
    },
    {
      "cell_type": "code",
      "source": [
        ""
      ],
      "metadata": {
        "id": "ErBc545lAND7"
      },
      "execution_count": null,
      "outputs": []
    }
  ]
}